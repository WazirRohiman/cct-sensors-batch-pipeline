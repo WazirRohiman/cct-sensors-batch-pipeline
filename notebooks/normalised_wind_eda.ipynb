{
 "cells": [
  {
   "cell_type": "markdown",
   "id": "7fb27b941602401d91542211134fc71a",
   "metadata": {},
   "source": [
    "# Normalised Wind Data EDA\n",
    "Manual verification of tall-format wind measurements produced by the normalisation pipeline.\n"
   ]
  },
  {
   "cell_type": "markdown",
   "id": "acae54e37e7d407bbb7b55eff062a284",
   "metadata": {},
   "source": [
    "## Setup\n",
    "Load normalised fact files and station dimension metadata.\n"
   ]
  },
  {
   "cell_type": "code",
   "execution_count": 1,
   "id": "9a63283cbaf04dbcab1f6479b197f3a8",
   "metadata": {},
   "outputs": [
    {
     "data": {
      "application/vnd.microsoft.datawrangler.viewer.v0+json": {
       "columns": [
        {
         "name": "index",
         "rawType": "int64",
         "type": "integer"
        },
        {
         "name": "station_pk",
         "rawType": "int64",
         "type": "integer"
        },
        {
         "name": "station_code",
         "rawType": "object",
         "type": "string"
        },
        {
         "name": "station_name",
         "rawType": "object",
         "type": "string"
        },
        {
         "name": "location_type",
         "rawType": "object",
         "type": "string"
        },
        {
         "name": "description",
         "rawType": "object",
         "type": "string"
        }
       ],
       "ref": "812dc867-4bfd-469a-907b-87f43aa57476",
       "rows": [
        [
         "0",
         "1",
         "ATLAN001",
         "Atlantis AQM Site",
         "AQM",
         "Air Quality Monitoring site in Atlantis"
        ],
        [
         "1",
         "2",
         "BELLV001",
         "Bellville South AQM Site",
         "AQM",
         "Air Quality Monitoring site in Bellville South"
        ],
        [
         "2",
         "3",
         "BOTHA001",
         "Bothasig AQM Site",
         "AQM",
         "Air Quality Monitoring site in Bothasig"
        ],
        [
         "3",
         "4",
         "GOODW001",
         "Goodwood AQM Station",
         "AQM",
         "Air Quality Monitoring station in Goodwood"
        ],
        [
         "4",
         "5",
         "KHAYE001",
         "Khayelitsha AQM Site",
         "AQM",
         "Air Quality Monitoring site in Khayelitsha"
        ]
       ],
       "shape": {
        "columns": 5,
        "rows": 5
       }
      },
      "text/html": [
       "<div>\n",
       "<style scoped>\n",
       "    .dataframe tbody tr th:only-of-type {\n",
       "        vertical-align: middle;\n",
       "    }\n",
       "\n",
       "    .dataframe tbody tr th {\n",
       "        vertical-align: top;\n",
       "    }\n",
       "\n",
       "    .dataframe thead th {\n",
       "        text-align: right;\n",
       "    }\n",
       "</style>\n",
       "<table border=\"1\" class=\"dataframe\">\n",
       "  <thead>\n",
       "    <tr style=\"text-align: right;\">\n",
       "      <th></th>\n",
       "      <th>station_pk</th>\n",
       "      <th>station_code</th>\n",
       "      <th>station_name</th>\n",
       "      <th>location_type</th>\n",
       "      <th>description</th>\n",
       "    </tr>\n",
       "  </thead>\n",
       "  <tbody>\n",
       "    <tr>\n",
       "      <th>0</th>\n",
       "      <td>1</td>\n",
       "      <td>ATLAN001</td>\n",
       "      <td>Atlantis AQM Site</td>\n",
       "      <td>AQM</td>\n",
       "      <td>Air Quality Monitoring site in Atlantis</td>\n",
       "    </tr>\n",
       "    <tr>\n",
       "      <th>1</th>\n",
       "      <td>2</td>\n",
       "      <td>BELLV001</td>\n",
       "      <td>Bellville South AQM Site</td>\n",
       "      <td>AQM</td>\n",
       "      <td>Air Quality Monitoring site in Bellville South</td>\n",
       "    </tr>\n",
       "    <tr>\n",
       "      <th>2</th>\n",
       "      <td>3</td>\n",
       "      <td>BOTHA001</td>\n",
       "      <td>Bothasig AQM Site</td>\n",
       "      <td>AQM</td>\n",
       "      <td>Air Quality Monitoring site in Bothasig</td>\n",
       "    </tr>\n",
       "    <tr>\n",
       "      <th>3</th>\n",
       "      <td>4</td>\n",
       "      <td>GOODW001</td>\n",
       "      <td>Goodwood AQM Station</td>\n",
       "      <td>AQM</td>\n",
       "      <td>Air Quality Monitoring station in Goodwood</td>\n",
       "    </tr>\n",
       "    <tr>\n",
       "      <th>4</th>\n",
       "      <td>5</td>\n",
       "      <td>KHAYE001</td>\n",
       "      <td>Khayelitsha AQM Site</td>\n",
       "      <td>AQM</td>\n",
       "      <td>Air Quality Monitoring site in Khayelitsha</td>\n",
       "    </tr>\n",
       "  </tbody>\n",
       "</table>\n",
       "</div>"
      ],
      "text/plain": [
       "   station_pk station_code              station_name location_type  \\\n",
       "0           1     ATLAN001         Atlantis AQM Site           AQM   \n",
       "1           2     BELLV001  Bellville South AQM Site           AQM   \n",
       "2           3     BOTHA001         Bothasig AQM Site           AQM   \n",
       "3           4     GOODW001      Goodwood AQM Station           AQM   \n",
       "4           5     KHAYE001      Khayelitsha AQM Site           AQM   \n",
       "\n",
       "                                      description  \n",
       "0         Air Quality Monitoring site in Atlantis  \n",
       "1  Air Quality Monitoring site in Bellville South  \n",
       "2         Air Quality Monitoring site in Bothasig  \n",
       "3      Air Quality Monitoring station in Goodwood  \n",
       "4      Air Quality Monitoring site in Khayelitsha  "
      ]
     },
     "execution_count": 1,
     "metadata": {},
     "output_type": "execute_result"
    }
   ],
   "source": [
    "from pathlib import Path\n",
    "\n",
    "import pandas as pd\n",
    "\n",
    "normalised_dir = Path('../data/normalised')\n",
    "fact_files = sorted(normalised_dir.glob('wind_*_normalised.parquet'))\n",
    "station_dim_path = normalised_dir / 'station_dim.parquet'\n",
    "\n",
    "if not fact_files:\n",
    "    raise FileNotFoundError(f'No normalised wind fact files found in {normalised_dir.resolve()}')\n",
    "\n",
    "if not station_dim_path.exists():\n",
    "    raise FileNotFoundError(f'Station dimension not found at {station_dim_path.resolve()}')\n",
    "\n",
    "station_dim_df = pd.read_parquet(station_dim_path)\n",
    "station_dim_df.head()\n"
   ]
  },
  {
   "cell_type": "markdown",
   "id": "8dd0d8092fe74a7c96281538738b07e2",
   "metadata": {},
   "source": [
    "## Available normalised files\n"
   ]
  },
  {
   "cell_type": "code",
   "execution_count": 2,
   "id": "72eea5119410473aa328ad9291626812",
   "metadata": {},
   "outputs": [
    {
     "data": {
      "text/plain": [
       "[PosixPath('../data/normalised/wind_2016_normalised.parquet'),\n",
       " PosixPath('../data/normalised/wind_2017_normalised.parquet'),\n",
       " PosixPath('../data/normalised/wind_2018_normalised.parquet'),\n",
       " PosixPath('../data/normalised/wind_2019_normalised.parquet'),\n",
       " PosixPath('../data/normalised/wind_2020_normalised.parquet')]"
      ]
     },
     "execution_count": 2,
     "metadata": {},
     "output_type": "execute_result"
    }
   ],
   "source": [
    "fact_files\n"
   ]
  },
  {
   "cell_type": "markdown",
   "id": "8edb47106e1a46a883d545849b8ab81b",
   "metadata": {},
   "source": [
    "## File-level overview\n",
    "Row counts, station coverage, metric completeness, and date spans for each normalised file.\n"
   ]
  },
  {
   "cell_type": "code",
   "execution_count": 3,
   "id": "10185d26023b46108eb7d9f57d49d2b3",
   "metadata": {},
   "outputs": [
    {
     "data": {
      "application/vnd.microsoft.datawrangler.viewer.v0+json": {
       "columns": [
        {
         "name": "index",
         "rawType": "int64",
         "type": "integer"
        },
        {
         "name": "file",
         "rawType": "object",
         "type": "string"
        },
        {
         "name": "rows",
         "rawType": "int64",
         "type": "integer"
        },
        {
         "name": "stations",
         "rawType": "int64",
         "type": "integer"
        },
        {
         "name": "metrics",
         "rawType": "int64",
         "type": "integer"
        },
        {
         "name": "pct_valid",
         "rawType": "float64",
         "type": "float"
        },
        {
         "name": "date_range",
         "rawType": "object",
         "type": "string"
        }
       ],
       "ref": "b7e2d41b-2fe6-44aa-893e-7bc72a11611b",
       "rows": [
        [
         "0",
         "wind_2016_normalised.parquet",
         "48384",
         "7",
         "2",
         "59.75",
         "2016-01-01 00:00:00 → 2016-12-12 23:00:00"
        ],
        [
         "1",
         "wind_2017_normalised.parquet",
         "48384",
         "7",
         "2",
         "70.08",
         "2017-01-01 00:00:00 → 2017-12-12 23:00:00"
        ],
        [
         "2",
         "wind_2018_normalised.parquet",
         "48384",
         "7",
         "2",
         "57.59",
         "2018-01-01 00:00:00 → 2018-12-12 23:00:00"
        ],
        [
         "3",
         "wind_2019_normalised.parquet",
         "48384",
         "7",
         "2",
         "71.73",
         "2019-01-01 00:00:00 → 2019-12-12 23:00:00"
        ],
        [
         "4",
         "wind_2020_normalised.parquet",
         "48384",
         "7",
         "2",
         "72.03",
         "2020-01-01 00:00:00 → 2020-12-12 23:00:00"
        ]
       ],
       "shape": {
        "columns": 6,
        "rows": 5
       }
      },
      "text/html": [
       "<div>\n",
       "<style scoped>\n",
       "    .dataframe tbody tr th:only-of-type {\n",
       "        vertical-align: middle;\n",
       "    }\n",
       "\n",
       "    .dataframe tbody tr th {\n",
       "        vertical-align: top;\n",
       "    }\n",
       "\n",
       "    .dataframe thead th {\n",
       "        text-align: right;\n",
       "    }\n",
       "</style>\n",
       "<table border=\"1\" class=\"dataframe\">\n",
       "  <thead>\n",
       "    <tr style=\"text-align: right;\">\n",
       "      <th></th>\n",
       "      <th>file</th>\n",
       "      <th>rows</th>\n",
       "      <th>stations</th>\n",
       "      <th>metrics</th>\n",
       "      <th>pct_valid</th>\n",
       "      <th>date_range</th>\n",
       "    </tr>\n",
       "  </thead>\n",
       "  <tbody>\n",
       "    <tr>\n",
       "      <th>0</th>\n",
       "      <td>wind_2016_normalised.parquet</td>\n",
       "      <td>48384</td>\n",
       "      <td>7</td>\n",
       "      <td>2</td>\n",
       "      <td>59.75</td>\n",
       "      <td>2016-01-01 00:00:00 → 2016-12-12 23:00:00</td>\n",
       "    </tr>\n",
       "    <tr>\n",
       "      <th>1</th>\n",
       "      <td>wind_2017_normalised.parquet</td>\n",
       "      <td>48384</td>\n",
       "      <td>7</td>\n",
       "      <td>2</td>\n",
       "      <td>70.08</td>\n",
       "      <td>2017-01-01 00:00:00 → 2017-12-12 23:00:00</td>\n",
       "    </tr>\n",
       "    <tr>\n",
       "      <th>2</th>\n",
       "      <td>wind_2018_normalised.parquet</td>\n",
       "      <td>48384</td>\n",
       "      <td>7</td>\n",
       "      <td>2</td>\n",
       "      <td>57.59</td>\n",
       "      <td>2018-01-01 00:00:00 → 2018-12-12 23:00:00</td>\n",
       "    </tr>\n",
       "    <tr>\n",
       "      <th>3</th>\n",
       "      <td>wind_2019_normalised.parquet</td>\n",
       "      <td>48384</td>\n",
       "      <td>7</td>\n",
       "      <td>2</td>\n",
       "      <td>71.73</td>\n",
       "      <td>2019-01-01 00:00:00 → 2019-12-12 23:00:00</td>\n",
       "    </tr>\n",
       "    <tr>\n",
       "      <th>4</th>\n",
       "      <td>wind_2020_normalised.parquet</td>\n",
       "      <td>48384</td>\n",
       "      <td>7</td>\n",
       "      <td>2</td>\n",
       "      <td>72.03</td>\n",
       "      <td>2020-01-01 00:00:00 → 2020-12-12 23:00:00</td>\n",
       "    </tr>\n",
       "  </tbody>\n",
       "</table>\n",
       "</div>"
      ],
      "text/plain": [
       "                           file   rows  stations  metrics  pct_valid  \\\n",
       "0  wind_2016_normalised.parquet  48384         7        2      59.75   \n",
       "1  wind_2017_normalised.parquet  48384         7        2      70.08   \n",
       "2  wind_2018_normalised.parquet  48384         7        2      57.59   \n",
       "3  wind_2019_normalised.parquet  48384         7        2      71.73   \n",
       "4  wind_2020_normalised.parquet  48384         7        2      72.03   \n",
       "\n",
       "                                  date_range  \n",
       "0  2016-01-01 00:00:00 → 2016-12-12 23:00:00  \n",
       "1  2017-01-01 00:00:00 → 2017-12-12 23:00:00  \n",
       "2  2018-01-01 00:00:00 → 2018-12-12 23:00:00  \n",
       "3  2019-01-01 00:00:00 → 2019-12-12 23:00:00  \n",
       "4  2020-01-01 00:00:00 → 2020-12-12 23:00:00  "
      ]
     },
     "execution_count": 3,
     "metadata": {},
     "output_type": "execute_result"
    }
   ],
   "source": [
    "overview_records = []\n",
    "for fact_path in fact_files:\n",
    "    df = pd.read_parquet(fact_path)\n",
    "    overview_records.append({\n",
    "        'file': fact_path.name,\n",
    "        'rows': len(df),\n",
    "        'stations': df['station_pk'].nunique(),\n",
    "        'metrics': df['metric'].nunique(),\n",
    "        'pct_valid': round((df['quality_flag'] == 'VALID').mean() * 100, 2),\n",
    "        'date_range': f\"{df['datetime'].min()} → {df['datetime'].max()}\",\n",
    "    })\n",
    "overview_df = pd.DataFrame(overview_records)\n",
    "overview_df\n"
   ]
  },
  {
   "cell_type": "markdown",
   "id": "8763a12b2bbd4a93a75aff182afb95dc",
   "metadata": {},
   "source": [
    "## Station and metric coverage\n",
    "Ensure each station has both wind metrics and inspect percentage of valid measurements.\n"
   ]
  },
  {
   "cell_type": "code",
   "execution_count": 4,
   "id": "7623eae2785240b9bd12b16a66d81610",
   "metadata": {},
   "outputs": [
    {
     "data": {
      "application/vnd.microsoft.datawrangler.viewer.v0+json": {
       "columns": [
        {
         "name": "index",
         "rawType": "int64",
         "type": "integer"
        },
        {
         "name": "station_pk",
         "rawType": "int64",
         "type": "integer"
        },
        {
         "name": "metric",
         "rawType": "object",
         "type": "string"
        },
        {
         "name": "total_points",
         "rawType": "int64",
         "type": "integer"
        },
        {
         "name": "valid_points",
         "rawType": "int64",
         "type": "integer"
        },
        {
         "name": "pct_valid",
         "rawType": "float64",
         "type": "float"
        },
        {
         "name": "file",
         "rawType": "object",
         "type": "string"
        },
        {
         "name": "station_code",
         "rawType": "object",
         "type": "string"
        },
        {
         "name": "station_name",
         "rawType": "object",
         "type": "string"
        }
       ],
       "ref": "2382012d-8f0c-42ff-9a9b-a33f5741a599",
       "rows": [
        [
         "0",
         "1",
         "wind_direction",
         "3456",
         "564",
         "16.32",
         "wind_2016_normalised.parquet",
         "ATLAN001",
         "Atlantis AQM Site"
        ],
        [
         "1",
         "1",
         "wind_speed",
         "3456",
         "287",
         "8.3",
         "wind_2016_normalised.parquet",
         "ATLAN001",
         "Atlantis AQM Site"
        ],
        [
         "2",
         "2",
         "wind_direction",
         "3456",
         "1526",
         "44.16",
         "wind_2016_normalised.parquet",
         "BELLV001",
         "Bellville South AQM Site"
        ],
        [
         "3",
         "2",
         "wind_speed",
         "3456",
         "1526",
         "44.16",
         "wind_2016_normalised.parquet",
         "BELLV001",
         "Bellville South AQM Site"
        ],
        [
         "4",
         "3",
         "wind_direction",
         "3456",
         "3451",
         "99.86",
         "wind_2016_normalised.parquet",
         "BOTHA001",
         "Bothasig AQM Site"
        ],
        [
         "5",
         "3",
         "wind_speed",
         "3456",
         "3451",
         "99.86",
         "wind_2016_normalised.parquet",
         "BOTHA001",
         "Bothasig AQM Site"
        ],
        [
         "6",
         "4",
         "wind_direction",
         "3456",
         "3443",
         "99.62",
         "wind_2016_normalised.parquet",
         "GOODW001",
         "Goodwood AQM Station"
        ],
        [
         "7",
         "4",
         "wind_speed",
         "3456",
         "3443",
         "99.62",
         "wind_2016_normalised.parquet",
         "GOODW001",
         "Goodwood AQM Station"
        ],
        [
         "8",
         "5",
         "wind_direction",
         "3456",
         "633",
         "18.32",
         "wind_2016_normalised.parquet",
         "KHAYE001",
         "Khayelitsha AQM Site"
        ],
        [
         "9",
         "5",
         "wind_speed",
         "3456",
         "633",
         "18.32",
         "wind_2016_normalised.parquet",
         "KHAYE001",
         "Khayelitsha AQM Site"
        ],
        [
         "10",
         "6",
         "wind_direction",
         "3456",
         "1555",
         "44.99",
         "wind_2016_normalised.parquet",
         "SOMER001",
         "Somerset West AQM Site"
        ],
        [
         "11",
         "6",
         "wind_speed",
         "3456",
         "1555",
         "44.99",
         "wind_2016_normalised.parquet",
         "SOMER001",
         "Somerset West AQM Site"
        ],
        [
         "12",
         "7",
         "wind_direction",
         "3456",
         "3423",
         "99.05",
         "wind_2016_normalised.parquet",
         "TABLE001",
         "Tableview AQM Site"
        ],
        [
         "13",
         "7",
         "wind_speed",
         "3456",
         "3420",
         "98.96",
         "wind_2016_normalised.parquet",
         "TABLE001",
         "Tableview AQM Site"
        ],
        [
         "14",
         "1",
         "wind_direction",
         "3456",
         "1573",
         "45.52",
         "wind_2017_normalised.parquet",
         "ATLAN001",
         "Atlantis AQM Site"
        ],
        [
         "15",
         "1",
         "wind_speed",
         "3456",
         "1563",
         "45.23",
         "wind_2017_normalised.parquet",
         "ATLAN001",
         "Atlantis AQM Site"
        ],
        [
         "16",
         "2",
         "wind_direction",
         "3456",
         "2523",
         "73.0",
         "wind_2017_normalised.parquet",
         "BELLV001",
         "Bellville South AQM Site"
        ],
        [
         "17",
         "2",
         "wind_speed",
         "3456",
         "2779",
         "80.41",
         "wind_2017_normalised.parquet",
         "BELLV001",
         "Bellville South AQM Site"
        ],
        [
         "18",
         "3",
         "wind_direction",
         "3456",
         "3285",
         "95.05",
         "wind_2017_normalised.parquet",
         "BOTHA001",
         "Bothasig AQM Site"
        ],
        [
         "19",
         "3",
         "wind_speed",
         "3456",
         "3285",
         "95.05",
         "wind_2017_normalised.parquet",
         "BOTHA001",
         "Bothasig AQM Site"
        ],
        [
         "20",
         "4",
         "wind_direction",
         "3456",
         "2035",
         "58.88",
         "wind_2017_normalised.parquet",
         "GOODW001",
         "Goodwood AQM Station"
        ],
        [
         "21",
         "4",
         "wind_speed",
         "3456",
         "2035",
         "58.88",
         "wind_2017_normalised.parquet",
         "GOODW001",
         "Goodwood AQM Station"
        ],
        [
         "22",
         "5",
         "wind_direction",
         "3456",
         "576",
         "16.67",
         "wind_2017_normalised.parquet",
         "KHAYE001",
         "Khayelitsha AQM Site"
        ],
        [
         "23",
         "5",
         "wind_speed",
         "3456",
         "576",
         "16.67",
         "wind_2017_normalised.parquet",
         "KHAYE001",
         "Khayelitsha AQM Site"
        ],
        [
         "24",
         "6",
         "wind_direction",
         "3456",
         "3427",
         "99.16",
         "wind_2017_normalised.parquet",
         "SOMER001",
         "Somerset West AQM Site"
        ],
        [
         "25",
         "6",
         "wind_speed",
         "3456",
         "3427",
         "99.16",
         "wind_2017_normalised.parquet",
         "SOMER001",
         "Somerset West AQM Site"
        ],
        [
         "26",
         "7",
         "wind_direction",
         "3456",
         "3411",
         "98.7",
         "wind_2017_normalised.parquet",
         "TABLE001",
         "Tableview AQM Site"
        ],
        [
         "27",
         "7",
         "wind_speed",
         "3456",
         "3411",
         "98.7",
         "wind_2017_normalised.parquet",
         "TABLE001",
         "Tableview AQM Site"
        ],
        [
         "28",
         "1",
         "wind_direction",
         "3456",
         "2319",
         "67.1",
         "wind_2018_normalised.parquet",
         "ATLAN001",
         "Atlantis AQM Site"
        ],
        [
         "29",
         "1",
         "wind_speed",
         "3456",
         "2319",
         "67.1",
         "wind_2018_normalised.parquet",
         "ATLAN001",
         "Atlantis AQM Site"
        ],
        [
         "30",
         "2",
         "wind_direction",
         "3456",
         "0",
         "0.0",
         "wind_2018_normalised.parquet",
         "BELLV001",
         "Bellville South AQM Site"
        ],
        [
         "31",
         "2",
         "wind_speed",
         "3456",
         "0",
         "0.0",
         "wind_2018_normalised.parquet",
         "BELLV001",
         "Bellville South AQM Site"
        ],
        [
         "32",
         "3",
         "wind_direction",
         "3456",
         "3194",
         "92.42",
         "wind_2018_normalised.parquet",
         "BOTHA001",
         "Bothasig AQM Site"
        ],
        [
         "33",
         "3",
         "wind_speed",
         "3456",
         "3194",
         "92.42",
         "wind_2018_normalised.parquet",
         "BOTHA001",
         "Bothasig AQM Site"
        ],
        [
         "34",
         "4",
         "wind_direction",
         "3456",
         "2717",
         "78.62",
         "wind_2018_normalised.parquet",
         "GOODW001",
         "Goodwood AQM Station"
        ],
        [
         "35",
         "4",
         "wind_speed",
         "3456",
         "2717",
         "78.62",
         "wind_2018_normalised.parquet",
         "GOODW001",
         "Goodwood AQM Station"
        ],
        [
         "36",
         "5",
         "wind_direction",
         "3456",
         "0",
         "0.0",
         "wind_2018_normalised.parquet",
         "KHAYE001",
         "Khayelitsha AQM Site"
        ],
        [
         "37",
         "5",
         "wind_speed",
         "3456",
         "0",
         "0.0",
         "wind_2018_normalised.parquet",
         "KHAYE001",
         "Khayelitsha AQM Site"
        ],
        [
         "38",
         "6",
         "wind_direction",
         "3456",
         "2709",
         "78.39",
         "wind_2018_normalised.parquet",
         "SOMER001",
         "Somerset West AQM Site"
        ],
        [
         "39",
         "6",
         "wind_speed",
         "3456",
         "2709",
         "78.39",
         "wind_2018_normalised.parquet",
         "SOMER001",
         "Somerset West AQM Site"
        ],
        [
         "40",
         "7",
         "wind_direction",
         "3456",
         "2994",
         "86.63",
         "wind_2018_normalised.parquet",
         "TABLE001",
         "Tableview AQM Site"
        ],
        [
         "41",
         "7",
         "wind_speed",
         "3456",
         "2994",
         "86.63",
         "wind_2018_normalised.parquet",
         "TABLE001",
         "Tableview AQM Site"
        ],
        [
         "42",
         "1",
         "wind_direction",
         "3456",
         "2741",
         "79.31",
         "wind_2019_normalised.parquet",
         "ATLAN001",
         "Atlantis AQM Site"
        ],
        [
         "43",
         "1",
         "wind_speed",
         "3456",
         "2741",
         "79.31",
         "wind_2019_normalised.parquet",
         "ATLAN001",
         "Atlantis AQM Site"
        ],
        [
         "44",
         "2",
         "wind_direction",
         "3456",
         "1592",
         "46.06",
         "wind_2019_normalised.parquet",
         "BELLV001",
         "Bellville South AQM Site"
        ],
        [
         "45",
         "2",
         "wind_speed",
         "3456",
         "1769",
         "51.19",
         "wind_2019_normalised.parquet",
         "BELLV001",
         "Bellville South AQM Site"
        ],
        [
         "46",
         "3",
         "wind_direction",
         "3456",
         "2611",
         "75.55",
         "wind_2019_normalised.parquet",
         "BOTHA001",
         "Bothasig AQM Site"
        ],
        [
         "47",
         "3",
         "wind_speed",
         "3456",
         "2899",
         "83.88",
         "wind_2019_normalised.parquet",
         "BOTHA001",
         "Bothasig AQM Site"
        ],
        [
         "48",
         "4",
         "wind_direction",
         "3456",
         "3270",
         "94.62",
         "wind_2019_normalised.parquet",
         "GOODW001",
         "Goodwood AQM Station"
        ],
        [
         "49",
         "4",
         "wind_speed",
         "3456",
         "3245",
         "93.89",
         "wind_2019_normalised.parquet",
         "GOODW001",
         "Goodwood AQM Station"
        ]
       ],
       "shape": {
        "columns": 8,
        "rows": 70
       }
      },
      "text/html": [
       "<div>\n",
       "<style scoped>\n",
       "    .dataframe tbody tr th:only-of-type {\n",
       "        vertical-align: middle;\n",
       "    }\n",
       "\n",
       "    .dataframe tbody tr th {\n",
       "        vertical-align: top;\n",
       "    }\n",
       "\n",
       "    .dataframe thead th {\n",
       "        text-align: right;\n",
       "    }\n",
       "</style>\n",
       "<table border=\"1\" class=\"dataframe\">\n",
       "  <thead>\n",
       "    <tr style=\"text-align: right;\">\n",
       "      <th></th>\n",
       "      <th>station_pk</th>\n",
       "      <th>metric</th>\n",
       "      <th>total_points</th>\n",
       "      <th>valid_points</th>\n",
       "      <th>pct_valid</th>\n",
       "      <th>file</th>\n",
       "      <th>station_code</th>\n",
       "      <th>station_name</th>\n",
       "    </tr>\n",
       "  </thead>\n",
       "  <tbody>\n",
       "    <tr>\n",
       "      <th>0</th>\n",
       "      <td>1</td>\n",
       "      <td>wind_direction</td>\n",
       "      <td>3456</td>\n",
       "      <td>564</td>\n",
       "      <td>16.32</td>\n",
       "      <td>wind_2016_normalised.parquet</td>\n",
       "      <td>ATLAN001</td>\n",
       "      <td>Atlantis AQM Site</td>\n",
       "    </tr>\n",
       "    <tr>\n",
       "      <th>1</th>\n",
       "      <td>1</td>\n",
       "      <td>wind_speed</td>\n",
       "      <td>3456</td>\n",
       "      <td>287</td>\n",
       "      <td>8.30</td>\n",
       "      <td>wind_2016_normalised.parquet</td>\n",
       "      <td>ATLAN001</td>\n",
       "      <td>Atlantis AQM Site</td>\n",
       "    </tr>\n",
       "    <tr>\n",
       "      <th>2</th>\n",
       "      <td>2</td>\n",
       "      <td>wind_direction</td>\n",
       "      <td>3456</td>\n",
       "      <td>1526</td>\n",
       "      <td>44.16</td>\n",
       "      <td>wind_2016_normalised.parquet</td>\n",
       "      <td>BELLV001</td>\n",
       "      <td>Bellville South AQM Site</td>\n",
       "    </tr>\n",
       "    <tr>\n",
       "      <th>3</th>\n",
       "      <td>2</td>\n",
       "      <td>wind_speed</td>\n",
       "      <td>3456</td>\n",
       "      <td>1526</td>\n",
       "      <td>44.16</td>\n",
       "      <td>wind_2016_normalised.parquet</td>\n",
       "      <td>BELLV001</td>\n",
       "      <td>Bellville South AQM Site</td>\n",
       "    </tr>\n",
       "    <tr>\n",
       "      <th>4</th>\n",
       "      <td>3</td>\n",
       "      <td>wind_direction</td>\n",
       "      <td>3456</td>\n",
       "      <td>3451</td>\n",
       "      <td>99.86</td>\n",
       "      <td>wind_2016_normalised.parquet</td>\n",
       "      <td>BOTHA001</td>\n",
       "      <td>Bothasig AQM Site</td>\n",
       "    </tr>\n",
       "    <tr>\n",
       "      <th>...</th>\n",
       "      <td>...</td>\n",
       "      <td>...</td>\n",
       "      <td>...</td>\n",
       "      <td>...</td>\n",
       "      <td>...</td>\n",
       "      <td>...</td>\n",
       "      <td>...</td>\n",
       "      <td>...</td>\n",
       "    </tr>\n",
       "    <tr>\n",
       "      <th>65</th>\n",
       "      <td>5</td>\n",
       "      <td>wind_speed</td>\n",
       "      <td>3456</td>\n",
       "      <td>3015</td>\n",
       "      <td>87.24</td>\n",
       "      <td>wind_2020_normalised.parquet</td>\n",
       "      <td>KHAYE001</td>\n",
       "      <td>Khayelitsha AQM Site</td>\n",
       "    </tr>\n",
       "    <tr>\n",
       "      <th>66</th>\n",
       "      <td>6</td>\n",
       "      <td>wind_direction</td>\n",
       "      <td>3456</td>\n",
       "      <td>391</td>\n",
       "      <td>11.31</td>\n",
       "      <td>wind_2020_normalised.parquet</td>\n",
       "      <td>SOMER001</td>\n",
       "      <td>Somerset West AQM Site</td>\n",
       "    </tr>\n",
       "    <tr>\n",
       "      <th>67</th>\n",
       "      <td>6</td>\n",
       "      <td>wind_speed</td>\n",
       "      <td>3456</td>\n",
       "      <td>391</td>\n",
       "      <td>11.31</td>\n",
       "      <td>wind_2020_normalised.parquet</td>\n",
       "      <td>SOMER001</td>\n",
       "      <td>Somerset West AQM Site</td>\n",
       "    </tr>\n",
       "    <tr>\n",
       "      <th>68</th>\n",
       "      <td>7</td>\n",
       "      <td>wind_direction</td>\n",
       "      <td>3456</td>\n",
       "      <td>3356</td>\n",
       "      <td>97.11</td>\n",
       "      <td>wind_2020_normalised.parquet</td>\n",
       "      <td>TABLE001</td>\n",
       "      <td>Tableview AQM Site</td>\n",
       "    </tr>\n",
       "    <tr>\n",
       "      <th>69</th>\n",
       "      <td>7</td>\n",
       "      <td>wind_speed</td>\n",
       "      <td>3456</td>\n",
       "      <td>3356</td>\n",
       "      <td>97.11</td>\n",
       "      <td>wind_2020_normalised.parquet</td>\n",
       "      <td>TABLE001</td>\n",
       "      <td>Tableview AQM Site</td>\n",
       "    </tr>\n",
       "  </tbody>\n",
       "</table>\n",
       "<p>70 rows × 8 columns</p>\n",
       "</div>"
      ],
      "text/plain": [
       "    station_pk          metric  total_points  valid_points  pct_valid  \\\n",
       "0            1  wind_direction          3456           564      16.32   \n",
       "1            1      wind_speed          3456           287       8.30   \n",
       "2            2  wind_direction          3456          1526      44.16   \n",
       "3            2      wind_speed          3456          1526      44.16   \n",
       "4            3  wind_direction          3456          3451      99.86   \n",
       "..         ...             ...           ...           ...        ...   \n",
       "65           5      wind_speed          3456          3015      87.24   \n",
       "66           6  wind_direction          3456           391      11.31   \n",
       "67           6      wind_speed          3456           391      11.31   \n",
       "68           7  wind_direction          3456          3356      97.11   \n",
       "69           7      wind_speed          3456          3356      97.11   \n",
       "\n",
       "                            file station_code              station_name  \n",
       "0   wind_2016_normalised.parquet     ATLAN001         Atlantis AQM Site  \n",
       "1   wind_2016_normalised.parquet     ATLAN001         Atlantis AQM Site  \n",
       "2   wind_2016_normalised.parquet     BELLV001  Bellville South AQM Site  \n",
       "3   wind_2016_normalised.parquet     BELLV001  Bellville South AQM Site  \n",
       "4   wind_2016_normalised.parquet     BOTHA001         Bothasig AQM Site  \n",
       "..                           ...          ...                       ...  \n",
       "65  wind_2020_normalised.parquet     KHAYE001      Khayelitsha AQM Site  \n",
       "66  wind_2020_normalised.parquet     SOMER001    Somerset West AQM Site  \n",
       "67  wind_2020_normalised.parquet     SOMER001    Somerset West AQM Site  \n",
       "68  wind_2020_normalised.parquet     TABLE001        Tableview AQM Site  \n",
       "69  wind_2020_normalised.parquet     TABLE001        Tableview AQM Site  \n",
       "\n",
       "[70 rows x 8 columns]"
      ]
     },
     "execution_count": 4,
     "metadata": {},
     "output_type": "execute_result"
    }
   ],
   "source": [
    "coverage_frames = []\n",
    "for fact_path in fact_files:\n",
    "    df = pd.read_parquet(fact_path)\n",
    "    summary = (\n",
    "        df.groupby(['station_pk', 'metric'])\n",
    "        .agg(total_points=('value', 'size'), valid_points=('quality_flag', lambda s: (s == 'VALID').sum()))\n",
    "        .assign(pct_valid=lambda frame: (frame['valid_points'] / frame['total_points'] * 100).round(2))\n",
    "        .reset_index()\n",
    "    )\n",
    "    summary['file'] = fact_path.name\n",
    "    coverage_frames.append(summary)\n",
    "\n",
    "coverage_df = pd.concat(coverage_frames, ignore_index=True)\n",
    "coverage_df = coverage_df.merge(station_dim_df[['station_pk', 'station_code', 'station_name']], on='station_pk', how='left')\n",
    "coverage_df.sort_values(['file', 'station_pk', 'metric']).reset_index(drop=True)\n"
   ]
  },
  {
   "cell_type": "markdown",
   "id": "7cdc8c89c7104fffa095e18ddfef8986",
   "metadata": {},
   "source": [
    "## Sample year drill-down\n",
    "Inspect the latest normalised file. Change `sample_path` to focus on another year.\n"
   ]
  },
  {
   "cell_type": "code",
   "execution_count": 5,
   "id": "b118ea5561624da68c537baed56e602f",
   "metadata": {},
   "outputs": [
    {
     "data": {
      "text/plain": [
       "PosixPath('../data/normalised/wind_2020_normalised.parquet')"
      ]
     },
     "execution_count": 5,
     "metadata": {},
     "output_type": "execute_result"
    }
   ],
   "source": [
    "sample_path = fact_files[-1]\n",
    "sample_path\n"
   ]
  },
  {
   "cell_type": "code",
   "execution_count": 6,
   "id": "938c804e27f84196a10c8828c723f798",
   "metadata": {},
   "outputs": [
    {
     "data": {
      "application/vnd.microsoft.datawrangler.viewer.v0+json": {
       "columns": [
        {
         "name": "index",
         "rawType": "int64",
         "type": "integer"
        },
        {
         "name": "datetime",
         "rawType": "datetime64[ns]",
         "type": "datetime"
        },
        {
         "name": "station_pk",
         "rawType": "int64",
         "type": "integer"
        },
        {
         "name": "station_code",
         "rawType": "object",
         "type": "string"
        },
        {
         "name": "station_name",
         "rawType": "object",
         "type": "string"
        },
        {
         "name": "location_type",
         "rawType": "object",
         "type": "string"
        },
        {
         "name": "metric",
         "rawType": "object",
         "type": "string"
        },
        {
         "name": "unit",
         "rawType": "object",
         "type": "string"
        },
        {
         "name": "value",
         "rawType": "float64",
         "type": "float"
        },
        {
         "name": "quality_flag",
         "rawType": "object",
         "type": "string"
        },
        {
         "name": "source",
         "rawType": "object",
         "type": "string"
        },
        {
         "name": "year",
         "rawType": "object",
         "type": "string"
        }
       ],
       "ref": "6037e9ac-8488-415f-9b8a-204a5d0f3d94",
       "rows": [
        [
         "0",
         "2020-01-01 00:00:00",
         "1",
         "ATLAN001",
         "Atlantis AQM Site",
         "AQM",
         "wind_direction",
         "degrees",
         "173.0",
         "VALID",
         "wind",
         "2020"
        ],
        [
         "1",
         "2020-01-01 00:00:00",
         "1",
         "ATLAN001",
         "Atlantis AQM Site",
         "AQM",
         "wind_speed",
         "m/s",
         "4.1",
         "VALID",
         "wind",
         "2020"
        ],
        [
         "2",
         "2020-01-01 00:00:00",
         "2",
         "BELLV001",
         "Bellville South AQM Site",
         "AQM",
         "wind_direction",
         "degrees",
         "191.0",
         "VALID",
         "wind",
         "2020"
        ],
        [
         "3",
         "2020-01-01 00:00:00",
         "2",
         "BELLV001",
         "Bellville South AQM Site",
         "AQM",
         "wind_speed",
         "m/s",
         "2.5",
         "VALID",
         "wind",
         "2020"
        ],
        [
         "4",
         "2020-01-01 00:00:00",
         "3",
         "BOTHA001",
         "Bothasig AQM Site",
         "AQM",
         "wind_direction",
         "degrees",
         "163.7",
         "VALID",
         "wind",
         "2020"
        ]
       ],
       "shape": {
        "columns": 11,
        "rows": 5
       }
      },
      "text/html": [
       "<div>\n",
       "<style scoped>\n",
       "    .dataframe tbody tr th:only-of-type {\n",
       "        vertical-align: middle;\n",
       "    }\n",
       "\n",
       "    .dataframe tbody tr th {\n",
       "        vertical-align: top;\n",
       "    }\n",
       "\n",
       "    .dataframe thead th {\n",
       "        text-align: right;\n",
       "    }\n",
       "</style>\n",
       "<table border=\"1\" class=\"dataframe\">\n",
       "  <thead>\n",
       "    <tr style=\"text-align: right;\">\n",
       "      <th></th>\n",
       "      <th>datetime</th>\n",
       "      <th>station_pk</th>\n",
       "      <th>station_code</th>\n",
       "      <th>station_name</th>\n",
       "      <th>location_type</th>\n",
       "      <th>metric</th>\n",
       "      <th>unit</th>\n",
       "      <th>value</th>\n",
       "      <th>quality_flag</th>\n",
       "      <th>source</th>\n",
       "      <th>year</th>\n",
       "    </tr>\n",
       "  </thead>\n",
       "  <tbody>\n",
       "    <tr>\n",
       "      <th>0</th>\n",
       "      <td>2020-01-01</td>\n",
       "      <td>1</td>\n",
       "      <td>ATLAN001</td>\n",
       "      <td>Atlantis AQM Site</td>\n",
       "      <td>AQM</td>\n",
       "      <td>wind_direction</td>\n",
       "      <td>degrees</td>\n",
       "      <td>173.0</td>\n",
       "      <td>VALID</td>\n",
       "      <td>wind</td>\n",
       "      <td>2020</td>\n",
       "    </tr>\n",
       "    <tr>\n",
       "      <th>1</th>\n",
       "      <td>2020-01-01</td>\n",
       "      <td>1</td>\n",
       "      <td>ATLAN001</td>\n",
       "      <td>Atlantis AQM Site</td>\n",
       "      <td>AQM</td>\n",
       "      <td>wind_speed</td>\n",
       "      <td>m/s</td>\n",
       "      <td>4.1</td>\n",
       "      <td>VALID</td>\n",
       "      <td>wind</td>\n",
       "      <td>2020</td>\n",
       "    </tr>\n",
       "    <tr>\n",
       "      <th>2</th>\n",
       "      <td>2020-01-01</td>\n",
       "      <td>2</td>\n",
       "      <td>BELLV001</td>\n",
       "      <td>Bellville South AQM Site</td>\n",
       "      <td>AQM</td>\n",
       "      <td>wind_direction</td>\n",
       "      <td>degrees</td>\n",
       "      <td>191.0</td>\n",
       "      <td>VALID</td>\n",
       "      <td>wind</td>\n",
       "      <td>2020</td>\n",
       "    </tr>\n",
       "    <tr>\n",
       "      <th>3</th>\n",
       "      <td>2020-01-01</td>\n",
       "      <td>2</td>\n",
       "      <td>BELLV001</td>\n",
       "      <td>Bellville South AQM Site</td>\n",
       "      <td>AQM</td>\n",
       "      <td>wind_speed</td>\n",
       "      <td>m/s</td>\n",
       "      <td>2.5</td>\n",
       "      <td>VALID</td>\n",
       "      <td>wind</td>\n",
       "      <td>2020</td>\n",
       "    </tr>\n",
       "    <tr>\n",
       "      <th>4</th>\n",
       "      <td>2020-01-01</td>\n",
       "      <td>3</td>\n",
       "      <td>BOTHA001</td>\n",
       "      <td>Bothasig AQM Site</td>\n",
       "      <td>AQM</td>\n",
       "      <td>wind_direction</td>\n",
       "      <td>degrees</td>\n",
       "      <td>163.7</td>\n",
       "      <td>VALID</td>\n",
       "      <td>wind</td>\n",
       "      <td>2020</td>\n",
       "    </tr>\n",
       "  </tbody>\n",
       "</table>\n",
       "</div>"
      ],
      "text/plain": [
       "    datetime  station_pk station_code              station_name location_type  \\\n",
       "0 2020-01-01           1     ATLAN001         Atlantis AQM Site           AQM   \n",
       "1 2020-01-01           1     ATLAN001         Atlantis AQM Site           AQM   \n",
       "2 2020-01-01           2     BELLV001  Bellville South AQM Site           AQM   \n",
       "3 2020-01-01           2     BELLV001  Bellville South AQM Site           AQM   \n",
       "4 2020-01-01           3     BOTHA001         Bothasig AQM Site           AQM   \n",
       "\n",
       "           metric     unit  value quality_flag source  year  \n",
       "0  wind_direction  degrees  173.0        VALID   wind  2020  \n",
       "1      wind_speed      m/s    4.1        VALID   wind  2020  \n",
       "2  wind_direction  degrees  191.0        VALID   wind  2020  \n",
       "3      wind_speed      m/s    2.5        VALID   wind  2020  \n",
       "4  wind_direction  degrees  163.7        VALID   wind  2020  "
      ]
     },
     "execution_count": 6,
     "metadata": {},
     "output_type": "execute_result"
    }
   ],
   "source": [
    "sample_df = pd.read_parquet(sample_path)\n",
    "sample_df.head()\n"
   ]
  },
  {
   "cell_type": "code",
   "execution_count": 7,
   "id": "504fb2a444614c0babb325280ed9130a",
   "metadata": {},
   "outputs": [
    {
     "data": {
      "application/vnd.microsoft.datawrangler.viewer.v0+json": {
       "columns": [
        {
         "name": "station_code",
         "rawType": "object",
         "type": "string"
        },
        {
         "name": "wind_direction",
         "rawType": "float64",
         "type": "float"
        },
        {
         "name": "wind_speed",
         "rawType": "float64",
         "type": "float"
        }
       ],
       "ref": "b69fb279-87f5-42aa-ad70-81b745556502",
       "rows": [
        [
         "ATLAN001",
         "187.49",
         "3.78"
        ],
        [
         "BELLV001",
         "203.06",
         "2.06"
        ],
        [
         "BOTHA001",
         "195.03",
         "3.61"
        ],
        [
         "GOODW001",
         "242.0",
         "14.34"
        ],
        [
         "KHAYE001",
         "38.36",
         "0.69"
        ],
        [
         "SOMER001",
         "210.08",
         "2.42"
        ],
        [
         "TABLE001",
         "178.4",
         "3.67"
        ]
       ],
       "shape": {
        "columns": 2,
        "rows": 7
       }
      },
      "text/html": [
       "<div>\n",
       "<style scoped>\n",
       "    .dataframe tbody tr th:only-of-type {\n",
       "        vertical-align: middle;\n",
       "    }\n",
       "\n",
       "    .dataframe tbody tr th {\n",
       "        vertical-align: top;\n",
       "    }\n",
       "\n",
       "    .dataframe thead th {\n",
       "        text-align: right;\n",
       "    }\n",
       "</style>\n",
       "<table border=\"1\" class=\"dataframe\">\n",
       "  <thead>\n",
       "    <tr style=\"text-align: right;\">\n",
       "      <th>metric</th>\n",
       "      <th>wind_direction</th>\n",
       "      <th>wind_speed</th>\n",
       "    </tr>\n",
       "    <tr>\n",
       "      <th>station_code</th>\n",
       "      <th></th>\n",
       "      <th></th>\n",
       "    </tr>\n",
       "  </thead>\n",
       "  <tbody>\n",
       "    <tr>\n",
       "      <th>ATLAN001</th>\n",
       "      <td>187.49</td>\n",
       "      <td>3.78</td>\n",
       "    </tr>\n",
       "    <tr>\n",
       "      <th>BELLV001</th>\n",
       "      <td>203.06</td>\n",
       "      <td>2.06</td>\n",
       "    </tr>\n",
       "    <tr>\n",
       "      <th>BOTHA001</th>\n",
       "      <td>195.03</td>\n",
       "      <td>3.61</td>\n",
       "    </tr>\n",
       "    <tr>\n",
       "      <th>GOODW001</th>\n",
       "      <td>242.00</td>\n",
       "      <td>14.34</td>\n",
       "    </tr>\n",
       "    <tr>\n",
       "      <th>KHAYE001</th>\n",
       "      <td>38.36</td>\n",
       "      <td>0.69</td>\n",
       "    </tr>\n",
       "    <tr>\n",
       "      <th>SOMER001</th>\n",
       "      <td>210.08</td>\n",
       "      <td>2.42</td>\n",
       "    </tr>\n",
       "    <tr>\n",
       "      <th>TABLE001</th>\n",
       "      <td>178.40</td>\n",
       "      <td>3.67</td>\n",
       "    </tr>\n",
       "  </tbody>\n",
       "</table>\n",
       "</div>"
      ],
      "text/plain": [
       "metric        wind_direction  wind_speed\n",
       "station_code                            \n",
       "ATLAN001              187.49        3.78\n",
       "BELLV001              203.06        2.06\n",
       "BOTHA001              195.03        3.61\n",
       "GOODW001              242.00       14.34\n",
       "KHAYE001               38.36        0.69\n",
       "SOMER001              210.08        2.42\n",
       "TABLE001              178.40        3.67"
      ]
     },
     "execution_count": 7,
     "metadata": {},
     "output_type": "execute_result"
    }
   ],
   "source": [
    "pivot = (\n",
    "    sample_df.pivot_table(\n",
    "        index='station_code',\n",
    "        columns='metric',\n",
    "        values='value',\n",
    "        aggfunc='mean'\n",
    "    )\n",
    "    .round(2)\n",
    "    .sort_index()\n",
    ")\n",
    "pivot\n"
   ]
  },
  {
   "cell_type": "code",
   "execution_count": 8,
   "id": "59bbdb311c014d738909a11f9e486628",
   "metadata": {},
   "outputs": [
    {
     "data": {
      "application/vnd.microsoft.datawrangler.viewer.v0+json": {
       "columns": [
        {
         "name": "index",
         "rawType": "int64",
         "type": "integer"
        },
        {
         "name": "station_code",
         "rawType": "object",
         "type": "string"
        },
        {
         "name": "metric",
         "rawType": "object",
         "type": "string"
        },
        {
         "name": "pct_nodata",
         "rawType": "float64",
         "type": "float"
        }
       ],
       "ref": "847a0b4a-f52e-467d-a5ea-c6cbc698833d",
       "rows": [
        [
         "10",
         "SOMER001",
         "wind_direction",
         "88.69"
        ],
        [
         "11",
         "SOMER001",
         "wind_speed",
         "88.69"
        ],
        [
         "0",
         "ATLAN001",
         "wind_direction",
         "70.66"
        ],
        [
         "1",
         "ATLAN001",
         "wind_speed",
         "70.66"
        ],
        [
         "2",
         "BELLV001",
         "wind_direction",
         "15.25"
        ],
        [
         "8",
         "KHAYE001",
         "wind_direction",
         "12.76"
        ],
        [
         "9",
         "KHAYE001",
         "wind_speed",
         "12.76"
        ],
        [
         "7",
         "GOODW001",
         "wind_speed",
         "8.56"
        ],
        [
         "4",
         "BOTHA001",
         "wind_direction",
         "5.84"
        ],
        [
         "5",
         "BOTHA001",
         "wind_speed",
         "5.84"
        ],
        [
         "6",
         "GOODW001",
         "wind_direction",
         "3.39"
        ],
        [
         "12",
         "TABLE001",
         "wind_direction",
         "2.89"
        ],
        [
         "13",
         "TABLE001",
         "wind_speed",
         "2.89"
        ],
        [
         "3",
         "BELLV001",
         "wind_speed",
         "2.69"
        ]
       ],
       "shape": {
        "columns": 3,
        "rows": 14
       }
      },
      "text/html": [
       "<div>\n",
       "<style scoped>\n",
       "    .dataframe tbody tr th:only-of-type {\n",
       "        vertical-align: middle;\n",
       "    }\n",
       "\n",
       "    .dataframe tbody tr th {\n",
       "        vertical-align: top;\n",
       "    }\n",
       "\n",
       "    .dataframe thead th {\n",
       "        text-align: right;\n",
       "    }\n",
       "</style>\n",
       "<table border=\"1\" class=\"dataframe\">\n",
       "  <thead>\n",
       "    <tr style=\"text-align: right;\">\n",
       "      <th></th>\n",
       "      <th>station_code</th>\n",
       "      <th>metric</th>\n",
       "      <th>pct_nodata</th>\n",
       "    </tr>\n",
       "  </thead>\n",
       "  <tbody>\n",
       "    <tr>\n",
       "      <th>10</th>\n",
       "      <td>SOMER001</td>\n",
       "      <td>wind_direction</td>\n",
       "      <td>88.69</td>\n",
       "    </tr>\n",
       "    <tr>\n",
       "      <th>11</th>\n",
       "      <td>SOMER001</td>\n",
       "      <td>wind_speed</td>\n",
       "      <td>88.69</td>\n",
       "    </tr>\n",
       "    <tr>\n",
       "      <th>0</th>\n",
       "      <td>ATLAN001</td>\n",
       "      <td>wind_direction</td>\n",
       "      <td>70.66</td>\n",
       "    </tr>\n",
       "    <tr>\n",
       "      <th>1</th>\n",
       "      <td>ATLAN001</td>\n",
       "      <td>wind_speed</td>\n",
       "      <td>70.66</td>\n",
       "    </tr>\n",
       "    <tr>\n",
       "      <th>2</th>\n",
       "      <td>BELLV001</td>\n",
       "      <td>wind_direction</td>\n",
       "      <td>15.25</td>\n",
       "    </tr>\n",
       "    <tr>\n",
       "      <th>8</th>\n",
       "      <td>KHAYE001</td>\n",
       "      <td>wind_direction</td>\n",
       "      <td>12.76</td>\n",
       "    </tr>\n",
       "    <tr>\n",
       "      <th>9</th>\n",
       "      <td>KHAYE001</td>\n",
       "      <td>wind_speed</td>\n",
       "      <td>12.76</td>\n",
       "    </tr>\n",
       "    <tr>\n",
       "      <th>7</th>\n",
       "      <td>GOODW001</td>\n",
       "      <td>wind_speed</td>\n",
       "      <td>8.56</td>\n",
       "    </tr>\n",
       "    <tr>\n",
       "      <th>4</th>\n",
       "      <td>BOTHA001</td>\n",
       "      <td>wind_direction</td>\n",
       "      <td>5.84</td>\n",
       "    </tr>\n",
       "    <tr>\n",
       "      <th>5</th>\n",
       "      <td>BOTHA001</td>\n",
       "      <td>wind_speed</td>\n",
       "      <td>5.84</td>\n",
       "    </tr>\n",
       "    <tr>\n",
       "      <th>6</th>\n",
       "      <td>GOODW001</td>\n",
       "      <td>wind_direction</td>\n",
       "      <td>3.39</td>\n",
       "    </tr>\n",
       "    <tr>\n",
       "      <th>12</th>\n",
       "      <td>TABLE001</td>\n",
       "      <td>wind_direction</td>\n",
       "      <td>2.89</td>\n",
       "    </tr>\n",
       "    <tr>\n",
       "      <th>13</th>\n",
       "      <td>TABLE001</td>\n",
       "      <td>wind_speed</td>\n",
       "      <td>2.89</td>\n",
       "    </tr>\n",
       "    <tr>\n",
       "      <th>3</th>\n",
       "      <td>BELLV001</td>\n",
       "      <td>wind_speed</td>\n",
       "      <td>2.69</td>\n",
       "    </tr>\n",
       "  </tbody>\n",
       "</table>\n",
       "</div>"
      ],
      "text/plain": [
       "   station_code          metric  pct_nodata\n",
       "10     SOMER001  wind_direction       88.69\n",
       "11     SOMER001      wind_speed       88.69\n",
       "0      ATLAN001  wind_direction       70.66\n",
       "1      ATLAN001      wind_speed       70.66\n",
       "2      BELLV001  wind_direction       15.25\n",
       "8      KHAYE001  wind_direction       12.76\n",
       "9      KHAYE001      wind_speed       12.76\n",
       "7      GOODW001      wind_speed        8.56\n",
       "4      BOTHA001  wind_direction        5.84\n",
       "5      BOTHA001      wind_speed        5.84\n",
       "6      GOODW001  wind_direction        3.39\n",
       "12     TABLE001  wind_direction        2.89\n",
       "13     TABLE001      wind_speed        2.89\n",
       "3      BELLV001      wind_speed        2.69"
      ]
     },
     "execution_count": 8,
     "metadata": {},
     "output_type": "execute_result"
    }
   ],
   "source": [
    "missing_summary = (\n",
    "    sample_df.groupby(['station_code', 'metric'])['quality_flag']\n",
    "    .apply(lambda s: (s == 'NODATA').mean() * 100)\n",
    "    .round(2)\n",
    "    .reset_index(name='pct_nodata')\n",
    ")\n",
    "missing_summary.sort_values(['pct_nodata', 'station_code', 'metric'], ascending=[False, True, True])\n"
   ]
  }
 ],
 "metadata": {
  "kernelspec": {
   "display_name": ".venv",
   "language": "python",
   "name": "python3"
  },
  "language_info": {
   "codemirror_mode": {
    "name": "ipython",
    "version": 3
   },
   "file_extension": ".py",
   "mimetype": "text/x-python",
   "name": "python",
   "nbconvert_exporter": "python",
   "pygments_lexer": "ipython3",
   "version": "3.12.3"
  }
 },
 "nbformat": 4,
 "nbformat_minor": 5
}