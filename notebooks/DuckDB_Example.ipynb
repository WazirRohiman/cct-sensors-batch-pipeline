{
 "cells": [
  {
   "cell_type": "markdown",
   "id": "example-header",
   "metadata": {},
   "source": [
    "# DuckDB Example Queries\n",
    "\n",
    "This notebook demonstrates how to connect to and query the DuckDB database."
   ]
  },
  {
   "cell_type": "code",
   "execution_count": null,
   "id": "import-libraries",
   "metadata": {},
   "outputs": [],
   "source": [
    "\n",
    "import duckdb"
   ]
  },
  {
   "cell_type": "code",
   "execution_count": null,
   "id": "connect-duckdb",
   "metadata": {},
   "outputs": [],
   "source": [
    "# Connect to DuckDB database\n",
    "db_path = \"/home/jovyan/work/data/duckdb/cct_env.duckdb\"\n",
    "con = duckdb.connect(db_path)\n",
    "print(f\"Connected to DuckDB at: {db_path}\")"
   ]
  },
  {
   "cell_type": "code",
   "execution_count": null,
   "id": "show-tables",
   "metadata": {},
   "outputs": [],
   "source": [
    "# Show all tables\n",
    "tables = con.execute(\"SHOW TABLES\").fetchall()\n",
    "print(\"Available tables:\")\n",
    "for table in tables:\n",
    "    print(f\"  - {table[0]}\")"
   ]
  },
  {
   "cell_type": "code",
   "execution_count": null,
   "id": "describe-tables",
   "metadata": {},
   "outputs": [],
   "source": [
    "# Describe table schemas\n",
    "print(\"Station dimension table schema:\")\n",
    "con.execute(\"DESCRIBE dim_station\").df()"
   ]
  },
  {
   "cell_type": "code",
   "execution_count": null,
   "id": "describe-fact-table",
   "metadata": {},
   "outputs": [],
   "source": [
    "print(\"Measurement fact table schema:\")\n",
    "con.execute(\"DESCRIBE fact_measurement\").df()"
   ]
  },
  {
   "cell_type": "code",
   "execution_count": null,
   "id": "sample-queries",
   "metadata": {},
   "outputs": [],
   "source": [
    "# Sample queries - these will work once data is loaded\n",
    "\n",
    "# Count of measurements\n",
    "print(\"Total measurements:\")\n",
    "result = con.execute(\"SELECT COUNT(*) as total_measurements FROM fact_measurement\").fetchone()\n",
    "print(f\"  {result[0]} measurements\")\n",
    "\n",
    "# Count of stations\n",
    "print(\"\\nTotal stations:\")\n",
    "result = con.execute(\"SELECT COUNT(*) as total_stations FROM dim_station\").fetchone()\n",
    "print(f\"  {result[0]} stations\")"
   ]
  },
  {
   "cell_type": "code",
   "execution_count": null,
   "id": "advanced-query",
   "metadata": {},
   "outputs": [],
   "source": [
    "# Example: Latest measurements per station (when data is available)\n",
    "query = \"\"\"\n",
    "SELECT \n",
    "    s.name as station_name,\n",
    "    m.metric,\n",
    "    m.value,\n",
    "    m.unit,\n",
    "    m.ts as timestamp\n",
    "FROM fact_measurement m\n",
    "JOIN dim_station s ON m.station_id = s.station_id\n",
    "WHERE m.ts = (\n",
    "    SELECT MAX(ts) \n",
    "    FROM fact_measurement m2 \n",
    "    WHERE m2.station_id = m.station_id AND m2.metric = m.metric\n",
    ")\n",
    "ORDER BY s.name, m.metric\n",
    "LIMIT 10;\n",
    "\"\"\"\n",
    "\n",
    "# Convert to pandas DataFrame for better display\n",
    "df = con.execute(query).df()\n",
    "print(f\"Latest measurements (showing {len(df)} results):\")\n",
    "df"
   ]
  },
  {
   "cell_type": "code",
   "execution_count": null,
   "id": "close-connection",
   "metadata": {},
   "outputs": [],
   "source": [
    "# Close connection when done\n",
    "con.close()\n",
    "print(\"Connection closed.\")"
   ]
  }
 ],
 "metadata": {
  "kernelspec": {
   "display_name": "Python 3 (ipykernel)",
   "language": "python",
   "name": "python3"
  },
  "language_info": {
   "codemirror_mode": {
    "name": "ipython",
    "version": 3
   },
   "file_extension": ".py",
   "mimetype": "text/x-python",
   "name": "python",
   "nbconvert_exporter": "python",
   "pygments_lexer": "ipython3",
   "version": "3.11.6"
  }
 },
 "nbformat": 4,
 "nbformat_minor": 5
}
